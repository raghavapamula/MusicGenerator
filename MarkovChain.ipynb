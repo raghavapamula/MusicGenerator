{
 "cells": [
  {
   "cell_type": "code",
   "execution_count": 224,
   "metadata": {},
   "outputs": [],
   "source": [
    "from mido import Message, MidiFile, MidiTrack\n",
    "from collections import defaultdict, Counter\n",
    "from random import uniform, randint, choice\n",
    "import math\n",
    "\n",
    "mid = MidiFile(\"./one_love.mid\")\n",
    "\n",
    "chords = []\n",
    "\n",
    "seen = [-1 for _ in range(128)]\n",
    "    \n",
    "time = 0\n",
    "\n",
    "longetivity = [[0] for _ in range(128)]\n",
    "\n",
    "for track in mid.tracks:\n",
    "    track = track[2:-1]\n",
    "    i = 0\n",
    "    while(i < len(track)-1):\n",
    "        time+=track[i].time\n",
    "        chord = 2 << track[i].note\n",
    "        j = i+1\n",
    "        if(track[j].type == \"note_on\"):\n",
    "                seen[track[i].note] = time\n",
    "        else:\n",
    "            longetivity[track[i].note].append(time - seen[track[i].note])\n",
    "        while(j < len(track)-1 and track[j].time == 0):\n",
    "            if(track[j].type == \"note_on\"):\n",
    "                chord += 2 << track[j].note\n",
    "                seen[track[j].note] = time\n",
    "            else:\n",
    "                longetivity[track[j].note].append(time - seen[track[j].note])\n",
    "            j += 1\n",
    "        chords.append(chord)\n",
    "        i = j"
   ]
  },
  {
   "cell_type": "code",
   "execution_count": 225,
   "metadata": {},
   "outputs": [],
   "source": [
    "markovChain = defaultdict(list)\n",
    "\n",
    "for i in range(len(chords[:-1])):\n",
    "    markovChain[chords[i]].append(chords[i+1])"
   ]
  },
  {
   "cell_type": "code",
   "execution_count": 226,
   "metadata": {},
   "outputs": [],
   "source": [
    "start = choice(list(markovChain.keys()))"
   ]
  },
  {
   "cell_type": "code",
   "execution_count": 227,
   "metadata": {},
   "outputs": [],
   "source": [
    "mid = MidiFile()\n",
    "track = MidiTrack()\n",
    "mid.tracks.append(track)\n",
    "\n",
    "track.append(Message('program_change', program=12, time=0))\n",
    "\n",
    "length = 0\n",
    "\n",
    "starts, stops = [], []\n",
    "\n",
    "time = 0\n",
    "\n",
    "while(length < 1500 and len(markovChain[start]) != 0):\n",
    "    length+=1\n",
    "    temp = start\n",
    "    while(temp):\n",
    "        note = int(math.log(temp & ~(temp-1), 2))\n",
    "        notes.append(note)\n",
    "        #track.append(Message('note_on', note=note, velocity=64, time=time))\n",
    "        starts.append((note, time))\n",
    "        stops.append((note, time + choice(longetivity[note])))\n",
    "        temp &= temp-1\n",
    "        time += 200\n",
    "    start = choice(markovChain[start])"
   ]
  },
  {
   "cell_type": "code",
   "execution_count": 228,
   "metadata": {},
   "outputs": [],
   "source": [
    "prev_time = 0\n",
    "while(starts and stops):\n",
    "    if(starts[0][1] < stops[0][1]):\n",
    "        note, t = starts.pop(0)\n",
    "        track.append(Message('note_on', note=note, velocity=64, time=t-prev_time))\n",
    "    else:\n",
    "        note, time = stops.pop(0)\n",
    "        track.append(Message('note_off', note=note, velocity=64, time=t-prev_time))\n",
    "    prev_time = t"
   ]
  },
  {
   "cell_type": "code",
   "execution_count": 230,
   "metadata": {},
   "outputs": [],
   "source": [
    "mid.save('new_song.mid')"
   ]
  },
  {
   "cell_type": "code",
   "execution_count": 93,
   "metadata": {},
   "outputs": [],
   "source": [
    "m = MidiFile(\"./one_love.mid\")"
   ]
  },
  {
   "cell_type": "code",
   "execution_count": null,
   "metadata": {},
   "outputs": [],
   "source": []
  }
 ],
 "metadata": {
  "kernelspec": {
   "display_name": "Python 3",
   "language": "python",
   "name": "python3"
  },
  "language_info": {
   "codemirror_mode": {
    "name": "ipython",
    "version": 3
   },
   "file_extension": ".py",
   "mimetype": "text/x-python",
   "name": "python",
   "nbconvert_exporter": "python",
   "pygments_lexer": "ipython3",
   "version": "3.7.0"
  }
 },
 "nbformat": 4,
 "nbformat_minor": 2
}
